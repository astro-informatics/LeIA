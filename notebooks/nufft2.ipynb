{
 "cells": [
  {
   "cell_type": "code",
   "execution_count": 1,
   "id": "5b7871b1",
   "metadata": {},
   "outputs": [
    {
     "name": "stdout",
     "output_type": "stream",
     "text": [
      "/home/mars/src_aiai\n"
     ]
    }
   ],
   "source": [
    "cd .."
   ]
  },
  {
   "cell_type": "code",
   "execution_count": 2,
   "id": "c985df43",
   "metadata": {},
   "outputs": [
    {
     "name": "stderr",
     "output_type": "stream",
     "text": [
      "2021-11-30 21:55:28.619419: I tensorflow/stream_executor/platform/default/dso_loader.cc:49] Successfully opened dynamic library libcudart.so.11.0\n"
     ]
    }
   ],
   "source": [
    "import time\n",
    "import tqdm \n",
    "import sparse\n",
    "\n",
    "\n",
    "import numpy as np\n",
    "import matplotlib.pyplot as plt\n",
    "import tensorflow as tf\n",
    "\n",
    "from scipy.special import iv, jv\n",
    "from scipy.sparse import *"
   ]
  },
  {
   "cell_type": "code",
   "execution_count": 3,
   "id": "aec49697",
   "metadata": {},
   "outputs": [],
   "source": [
    "from src.sampling.uv_sampling import spider_sampling\n",
    "from src.operators.measurement import NUFFT_op, NUFFT_op_TF, old_NUFFT_op, old_NUFFT_op_TF, calculate_kaiser_bessel_coef\n",
    "from src.visualisation import compare"
   ]
  },
  {
   "cell_type": "code",
   "execution_count": 4,
   "id": "dc5caefd",
   "metadata": {},
   "outputs": [],
   "source": [
    "uv = spider_sampling()"
   ]
  },
  {
   "cell_type": "code",
   "execution_count": 5,
   "id": "a0894c6d",
   "metadata": {},
   "outputs": [],
   "source": [
    "Nd = (256,256)\n",
    "Kd = (512, 512)\n",
    "Jd = (6,6)"
   ]
  },
  {
   "cell_type": "markdown",
   "id": "fb1752c1",
   "metadata": {},
   "source": [
    "## KB coefficients"
   ]
  },
  {
   "cell_type": "code",
   "execution_count": 6,
   "id": "4912bf3f",
   "metadata": {},
   "outputs": [],
   "source": [
    "gridsize = 2*np.pi / Kd[0]\n",
    "k = (uv + np.pi) / gridsize\n",
    "kx = (uv[:,0] + np.pi) // gridsize\n",
    "ky = (uv[:,1] + np.pi) // gridsize"
   ]
  },
  {
   "cell_type": "code",
   "execution_count": 7,
   "id": "5c45e96c",
   "metadata": {},
   "outputs": [],
   "source": [
    "c = calculate_kaiser_bessel_coef(k[0], 0)"
   ]
  },
  {
   "cell_type": "code",
   "execution_count": 8,
   "id": "0b487d2d",
   "metadata": {},
   "outputs": [
    {
     "data": {
      "text/plain": [
       "<matplotlib.colorbar.Colorbar at 0x7ff82d214280>"
      ]
     },
     "execution_count": 8,
     "metadata": {},
     "output_type": "execute_result"
    },
    {
     "data": {
      "image/png": "[encoded data removed]",
      "text/plain": [
       "<Figure size 432x288 with 2 Axes>"
      ]
     },
     "metadata": {
      "needs_background": "light"
     },
     "output_type": "display_data"
    }
   ],
   "source": [
    "plt.imshow(c[-1].reshape(6,6))\n",
    "plt.colorbar()"
   ]
  },
  {
   "cell_type": "markdown",
   "id": "a9cc3e56",
   "metadata": {},
   "source": [
    "## NUFFT Operator"
   ]
  },
  {
   "cell_type": "code",
   "execution_count": 9,
   "id": "6135739b",
   "metadata": {
    "jupyter": {
     "source_hidden": true
    }
   },
   "outputs": [],
   "source": [
    "class Op():\n",
    "    def __init__(self):\n",
    "        pass\n",
    "        # TODO select axes over which to perform fft (and padding operations)\n",
    "        # TODO add scaling \n",
    "        # TODO check coeficient calculation\n",
    "        \n",
    "    def plan(self, uv, Nd, Kd, Jd):\n",
    "        # saving some values\n",
    "        self.Nd = Nd\n",
    "        self.Kd = Kd\n",
    "        self.Jd = Jd\n",
    "        self.M = len(uv)\n",
    "        \n",
    "        gridsize = 2*np.pi / Kd[0]\n",
    "        k = (uv + np.pi) / gridsize\n",
    "        \n",
    "        # calculating coefficients for interpolation\n",
    "        indices = []\n",
    "        values =  []\n",
    "        for i in tqdm.tqdm(range(len(uv))):\n",
    "            ind, vals = calculate_coef(k[i], i, Jd)\n",
    "            indices.append(ind)\n",
    "            values.append(vals.real)\n",
    "        \n",
    "        indices = np.array(indices).reshape(-1, 4)\n",
    "        values = np.array(values).reshape(-1)\n",
    "        self.interp_matrix = sparse.COO(indices.T, values, shape=(1, len(uv), Kd[0], Kd[1]))\n",
    "    \n",
    "        J = Jd[0] #np.linalg.norm(Jd)\n",
    "        beta = 2.34*J\n",
    "        s_kb = lambda x: np.sinc(np.sqrt((np.pi *x *J)**2 - (2.34*J)**2 +0j)/np.pi)\n",
    "\n",
    "        xx = (np.arange(Kd[0])/Kd[0] -.5)[Kd[0]//4:-Kd[0]//4]\n",
    "        sa = s_kb(xx).real\n",
    "        self.scaling = (sa.reshape(-1,1) * sa.reshape(1,-1))\n",
    "#         self.scaling = 1\n",
    "\n",
    "    def forward(self, xx):\n",
    "        return np.squeeze(self._kk2k(self._xx2kk(self._pad((xx/self.scaling).reshape(-1, self.Nd[0], self.Nd[1])))))  # why divide on both sides?\n",
    "#         return np.squeeze(self._kk2k(self._xx2kk(self._pad((xx).reshape(-1, self.Nd[0], self.Nd[1]))*self.scaling))) \n",
    "    \n",
    "    def adjoint(self, k):\n",
    "        return np.squeeze(self._unpad(self._kk2xx(self._k2kk(k)))) / self.scaling\n",
    "    \n",
    "    def _kk2k(self, kk):\n",
    "        \"\"\"interpolates of the grid to non uniform measurements\"\"\"\n",
    "        return (self.interp_matrix * kk.reshape(-1, 1, self.Kd[0], self.Kd[1])).sum(axis=(2,3)).todense()\n",
    "    \n",
    "    def _k2kk(self, y):\n",
    "        \"\"\"convolutes measurements to oversampled fft grid\"\"\"\n",
    "        return (self.interp_matrix * y.reshape(-1, self.M, 1, 1)).sum(axis=1).todense()\n",
    "    \n",
    "    @staticmethod\n",
    "    def _kk2xx(kk):\n",
    "        \"\"\"from 2d fourier space to 2d image space\"\"\"\n",
    "        return np.fft.ifftshift(np.fft.ifft2(np.fft.ifftshift(kk, axes=(-2,-1)), axes=(-2,-1), norm=None), axes=(-2,-1))\n",
    "\n",
    "    @staticmethod\n",
    "    def _xx2kk(xx):\n",
    "        \"\"\"from 2d fourier space to 2d image space\"\"\"\n",
    "        return np.fft.fftshift(np.fft.fft2(np.fft.fftshift(xx, axes=(-2,-1)), axes=(-2,-1), norm=None), axes=(-2,-1))\n",
    "    \n",
    "    def _pad(self, x):\n",
    "        \"\"\"pads x to go from Nd to Kd\"\"\"\n",
    "        return np.pad(x, (\n",
    "            ( 0,0 ),\n",
    "            ( (self.Kd[0]-self.Nd[0])//2, (self.Kd[0]-self.Nd[0])//2),\n",
    "            ( (self.Kd[1]-self.Nd[1])//2, (self.Kd[1]-self.Nd[1])//2)\n",
    "            ))\n",
    "    \n",
    "    \n",
    "    def _unpad(self, x):\n",
    "        \"\"\"unpads x to go from  Kd to Nd\"\"\"\n",
    "        return x[\n",
    "            :,\n",
    "            (self.Kd[0]-self.Nd[0])//2: (self.Kd[0]-self.Nd[0])//2 +self.Nd[0],\n",
    "            (self.Kd[1]-self.Nd[1])//2: (self.Kd[1]-self.Nd[1])//2 +self.Nd[1]\n",
    "            ] # remove zero padding from image"
   ]
  },
  {
   "cell_type": "code",
   "execution_count": 10,
   "id": "9a34534c",
   "metadata": {},
   "outputs": [
    {
     "name": "stderr",
     "output_type": "stream",
     "text": [
      "100%|█████████████████████████████████████████████████████████████████████████████████████████████████████████████████████████████████████████████████████████████████████████| 4440/4440 [00:00<00:00, 5004.07it/s]\n"
     ]
    }
   ],
   "source": [
    "op = NUFFT_op()\n",
    "op.plan(uv, Nd=(256,256), Kd=(512,512), Jd=(6,6))"
   ]
  },
  {
   "cell_type": "code",
   "execution_count": 11,
   "id": "0bcb92e8",
   "metadata": {},
   "outputs": [
    {
     "data": {
      "text/plain": [
       "<matplotlib.colorbar.Colorbar at 0x7ff82c0409a0>"
      ]
     },
     "execution_count": 11,
     "metadata": {},
     "output_type": "execute_result"
    },
    {
     "data": {
      "image/png": "[encoded data removed]",
      "text/plain": [
       "<Figure size 432x288 with 2 Axes>"
      ]
     },
     "metadata": {
      "needs_background": "light"
     },
     "output_type": "display_data"
    }
   ],
   "source": [
    "plt.imshow(op.scaling.real)\n",
    "plt.title(\"Scaling of the KB NUFFT operator\")\n",
    "plt.colorbar()"
   ]
  },
  {
   "cell_type": "markdown",
   "id": "1046965a",
   "metadata": {},
   "source": [
    "## Compare Direct FT vs min-max NUFFT vs KB NUFFT\n",
    "\n"
   ]
  },
  {
   "cell_type": "code",
   "execution_count": 12,
   "id": "aa1e4e1a",
   "metadata": {},
   "outputs": [],
   "source": [
    "def dft(x, w, m):\n",
    "    \n",
    "    return np.array([np.sum(m * np.exp(1j*w*i)) for i in x ])\n",
    "\n",
    "def dft2(x1, x2, w, m):\n",
    "   \n",
    "    w1 = np.exp(1j * w[:,0])\n",
    "    w2 = np.exp(1j * w[:,1])\n",
    "    N = len(x1)\n",
    "    res = np.zeros((len(x1), len(x2)))\n",
    "    for i in tqdm.tqdm(range(len(x1))):\n",
    "        for j in range(len(x2)):\n",
    "            res[i,j] = np.sum( w1**(x1[i]) * w2**(x2[j]) *m)\n",
    "    return res/(2*N)**2"
   ]
  },
  {
   "cell_type": "code",
   "execution_count": 13,
   "id": "892596f1",
   "metadata": {},
   "outputs": [
    {
     "name": "stderr",
     "output_type": "stream",
     "text": [
      "  0%|                                                                           | 0/256 [00:00<?, ?it/s]<ipython-input-12-2d6e30a2d649>:13: ComplexWarning: Casting complex values to real discards the imaginary part\n",
      "  res[i,j] = np.sum( w1**(x1[i]) * w2**(x2[j]) *m)\n",
      "100%|█████████████████████████████████████████████████████████████████| 256/256 [00:49<00:00,  5.16it/s]\n"
     ]
    }
   ],
   "source": [
    "# using (slow) non-uniform direct fourier transform\n",
    "x_dirty_ndft = dft2(np.arange(-128,128), np.arange(-128,128), uv, np.ones(len(uv)))"
   ]
  },
  {
   "cell_type": "code",
   "execution_count": 12,
   "id": "bfbfae86",
   "metadata": {},
   "outputs": [],
   "source": [
    "# old Min Max Nufft\n",
    "old_op = old_NUFFT_op(uv)"
   ]
  },
  {
   "cell_type": "code",
   "execution_count": 13,
   "id": "92a03b02",
   "metadata": {},
   "outputs": [],
   "source": [
    "y = np.ones((4440,1)) +0j\n",
    "\n",
    "st = time.perf_counter()\n",
    "x_dirty_kb = op.adj_op(y).real # kaiser bessel\n",
    "t_kb = time.perf_counter() - st\n",
    "\n",
    "st = time.perf_counter()\n",
    "x_dirty_mm = old_op.adj_op(y).real # min max\n",
    "t_mm = time.perf_counter() - st"
   ]
  },
  {
   "cell_type": "code",
   "execution_count": 14,
   "id": "82d674cc",
   "metadata": {},
   "outputs": [
    {
     "ename": "NameError",
     "evalue": "name 'x_dirty_ndft' is not defined",
     "output_type": "error",
     "traceback": [
      "\u001b[0;31m---------------------------------------------------------------------------\u001b[0m",
      "\u001b[0;31mNameError\u001b[0m                                 Traceback (most recent call last)",
      "\u001b[0;32m/tmp/ipykernel_63866/1488235040.py\u001b[0m in \u001b[0;36m<module>\u001b[0;34m\u001b[0m\n\u001b[1;32m      1\u001b[0m compare([\n\u001b[0;32m----> 2\u001b[0;31m     \u001b[0mx_dirty_ndft\u001b[0m\u001b[0;34m,\u001b[0m \u001b[0mnp\u001b[0m\u001b[0;34m.\u001b[0m\u001b[0mzeros\u001b[0m\u001b[0;34m(\u001b[0m\u001b[0mNd\u001b[0m\u001b[0;34m)\u001b[0m\u001b[0;34m,\u001b[0m\u001b[0;34m\u001b[0m\u001b[0;34m\u001b[0m\u001b[0m\n\u001b[0m\u001b[1;32m      3\u001b[0m     \u001b[0mx_dirty_kb\u001b[0m\u001b[0;34m,\u001b[0m \u001b[0mx_dirty_kb\u001b[0m \u001b[0;34m-\u001b[0m \u001b[0mx_dirty_ndft\u001b[0m\u001b[0;34m,\u001b[0m\u001b[0;34m\u001b[0m\u001b[0;34m\u001b[0m\u001b[0m\n\u001b[1;32m      4\u001b[0m     x_dirty_mm, x_dirty_mm - x_dirty_ndft], ncols=2, nrows=3, \n\u001b[1;32m      5\u001b[0m     titles=[\n",
      "\u001b[0;31mNameError\u001b[0m: name 'x_dirty_ndft' is not defined"
     ]
    }
   ],
   "source": [
    "compare([\n",
    "    x_dirty_ndft, np.zeros(Nd),\n",
    "    x_dirty_kb, x_dirty_kb - x_dirty_ndft, \n",
    "    x_dirty_mm, x_dirty_mm - x_dirty_ndft], ncols=2, nrows=3, \n",
    "    titles=[\n",
    "        \"PSF NDFT\", \"_\", \n",
    "        \"PSF NUFFT KB\", f\"Residuals ({t_kb:.1e}s) (rms:  {np.sqrt(np.mean(np.square(x_dirty_ndft - x_dirty_kb))):.3e})\",\n",
    "        \"PSF NUFFT Min Max\", f\"Residuals ({t_mm:.1e}s) (rms:  {np.sqrt(np.mean(np.square(x_dirty_ndft - x_dirty_mm))):.3e})\"\n",
    "    ], colorbar=True)"
   ]
  },
  {
   "cell_type": "markdown",
   "id": "53ba0542",
   "metadata": {},
   "source": [
    "## TF numpyfunc vs TF Native"
   ]
  },
  {
   "cell_type": "code",
   "execution_count": 15,
   "id": "bb4550b4",
   "metadata": {},
   "outputs": [
    {
     "name": "stdout",
     "output_type": "stream",
     "text": [
      "/device:GPU:0\n"
     ]
    },
    {
     "name": "stderr",
     "output_type": "stream",
     "text": [
      "2021-11-30 21:55:41.236839: I tensorflow/core/platform/cpu_feature_guard.cc:142] This TensorFlow binary is optimized with oneAPI Deep Neural Network Library (oneDNN) to use the following CPU instructions in performance-critical operations:  AVX512F\n",
      "To enable them in other operations, rebuild TensorFlow with the appropriate compiler flags.\n",
      "2021-11-30 21:55:41.237187: I tensorflow/compiler/jit/xla_gpu_device.cc:99] Not creating XLA devices, tf_xla_enable_xla_devices not set\n",
      "2021-11-30 21:55:41.239407: I tensorflow/stream_executor/platform/default/dso_loader.cc:49] Successfully opened dynamic library libcuda.so.1\n",
      "2021-11-30 21:55:45.934832: I tensorflow/core/common_runtime/gpu/gpu_device.cc:1720] Found device 0 with properties: \n",
      "pciBusID: 0000:1b:00.0 name: Tesla V100-PCIE-16GB computeCapability: 7.0\n",
      "coreClock: 1.38GHz coreCount: 80 deviceMemorySize: 15.78GiB deviceMemoryBandwidth: 836.37GiB/s\n",
      "2021-11-30 21:55:45.935893: I tensorflow/core/common_runtime/gpu/gpu_device.cc:1720] Found device 1 with properties: \n",
      "pciBusID: 0000:1d:00.0 name: Tesla V100-PCIE-16GB computeCapability: 7.0\n",
      "coreClock: 1.38GHz coreCount: 80 deviceMemorySize: 15.78GiB deviceMemoryBandwidth: 836.37GiB/s\n",
      "2021-11-30 21:55:45.936874: I tensorflow/core/common_runtime/gpu/gpu_device.cc:1720] Found device 2 with properties: \n",
      "pciBusID: 0000:3d:00.0 name: Tesla V100-PCIE-16GB computeCapability: 7.0\n",
      "coreClock: 1.38GHz coreCount: 80 deviceMemorySize: 15.78GiB deviceMemoryBandwidth: 836.37GiB/s\n",
      "2021-11-30 21:55:45.937839: I tensorflow/core/common_runtime/gpu/gpu_device.cc:1720] Found device 3 with properties: \n",
      "pciBusID: 0000:3f:00.0 name: Tesla V100-PCIE-16GB computeCapability: 7.0\n",
      "coreClock: 1.38GHz coreCount: 80 deviceMemorySize: 15.78GiB deviceMemoryBandwidth: 836.37GiB/s\n",
      "2021-11-30 21:55:45.937887: I tensorflow/stream_executor/platform/default/dso_loader.cc:49] Successfully opened dynamic library libcudart.so.11.0\n",
      "2021-11-30 21:55:45.977122: I tensorflow/stream_executor/platform/default/dso_loader.cc:49] Successfully opened dynamic library libcublas.so.11\n",
      "2021-11-30 21:55:45.977234: I tensorflow/stream_executor/platform/default/dso_loader.cc:49] Successfully opened dynamic library libcublasLt.so.11\n",
      "2021-11-30 21:55:45.997871: I tensorflow/stream_executor/platform/default/dso_loader.cc:49] Successfully opened dynamic library libcufft.so.10\n",
      "2021-11-30 21:55:46.007345: I tensorflow/stream_executor/platform/default/dso_loader.cc:49] Successfully opened dynamic library libcurand.so.10\n",
      "2021-11-30 21:55:46.041365: I tensorflow/stream_executor/platform/default/dso_loader.cc:49] Successfully opened dynamic library libcusolver.so.10\n",
      "2021-11-30 21:55:46.050734: I tensorflow/stream_executor/platform/default/dso_loader.cc:49] Successfully opened dynamic library libcusparse.so.11\n",
      "2021-11-30 21:55:46.052694: I tensorflow/stream_executor/platform/default/dso_loader.cc:49] Successfully opened dynamic library libcudnn.so.8\n",
      "2021-11-30 21:55:46.060517: I tensorflow/core/common_runtime/gpu/gpu_device.cc:1862] Adding visible gpu devices: 0, 1, 2, 3\n",
      "2021-11-30 21:55:46.060566: I tensorflow/stream_executor/platform/default/dso_loader.cc:49] Successfully opened dynamic library libcudart.so.11.0\n",
      "2021-11-30 21:55:47.779132: I tensorflow/core/common_runtime/gpu/gpu_device.cc:1261] Device interconnect StreamExecutor with strength 1 edge matrix:\n",
      "2021-11-30 21:55:47.779165: I tensorflow/core/common_runtime/gpu/gpu_device.cc:1267]      0 1 2 3 \n",
      "2021-11-30 21:55:47.779172: I tensorflow/core/common_runtime/gpu/gpu_device.cc:1280] 0:   N Y Y Y \n",
      "2021-11-30 21:55:47.779175: I tensorflow/core/common_runtime/gpu/gpu_device.cc:1280] 1:   Y N Y Y \n",
      "2021-11-30 21:55:47.779179: I tensorflow/core/common_runtime/gpu/gpu_device.cc:1280] 2:   Y Y N Y \n",
      "2021-11-30 21:55:47.779182: I tensorflow/core/common_runtime/gpu/gpu_device.cc:1280] 3:   Y Y Y N \n",
      "2021-11-30 21:55:47.783778: I tensorflow/core/common_runtime/gpu/gpu_device.cc:1406] Created TensorFlow device (/device:GPU:0 with 14761 MB memory) -> physical GPU (device: 0, name: Tesla V100-PCIE-16GB, pci bus id: 0000:1b:00.0, compute capability: 7.0)\n",
      "2021-11-30 21:55:47.785545: I tensorflow/core/common_runtime/gpu/gpu_device.cc:1406] Created TensorFlow device (/device:GPU:1 with 14761 MB memory) -> physical GPU (device: 1, name: Tesla V100-PCIE-16GB, pci bus id: 0000:1d:00.0, compute capability: 7.0)\n",
      "2021-11-30 21:55:47.787593: I tensorflow/core/common_runtime/gpu/gpu_device.cc:1406] Created TensorFlow device (/device:GPU:2 with 14761 MB memory) -> physical GPU (device: 2, name: Tesla V100-PCIE-16GB, pci bus id: 0000:3d:00.0, compute capability: 7.0)\n",
      "2021-11-30 21:55:47.789614: I tensorflow/core/common_runtime/gpu/gpu_device.cc:1406] Created TensorFlow device (/device:GPU:3 with 14761 MB memory) -> physical GPU (device: 3, name: Tesla V100-PCIE-16GB, pci bus id: 0000:3f:00.0, compute capability: 7.0)\n"
     ]
    }
   ],
   "source": [
    "print(tf.test.gpu_device_name())"
   ]
  },
  {
   "cell_type": "code",
   "execution_count": 16,
   "id": "68c76b1b",
   "metadata": {},
   "outputs": [],
   "source": [
    "class TF_nufft(NUFFT_op):\n",
    "    \"\"\" Tensorfow adaptation of the nufft operator\"\"\" \n",
    "    def forward(self, x):\n",
    "        return tf.numpy_function(self.dir_op, [x], tf.complex64)\n",
    "    def adjoint(self, x):\n",
    "        return tf.numpy_function(self.adj_op, [x], tf.complex64)"
   ]
  },
  {
   "cell_type": "code",
   "execution_count": 17,
   "id": "13b022e1",
   "metadata": {},
   "outputs": [
    {
     "name": "stderr",
     "output_type": "stream",
     "text": [
      "100%|█████████████████████████████████████████████████████████████████████████████████████████████████████████████████████████████████████████████████████████████████████████| 4440/4440 [00:00<00:00, 5996.62it/s]\n",
      "2021-11-30 21:55:48.662439: I tensorflow/compiler/jit/xla_cpu_device.cc:41] Not creating XLA devices, tf_xla_enable_xla_devices not set\n",
      "2021-11-30 21:55:48.663897: I tensorflow/core/common_runtime/gpu/gpu_device.cc:1720] Found device 0 with properties: \n",
      "pciBusID: 0000:1b:00.0 name: Tesla V100-PCIE-16GB computeCapability: 7.0\n",
      "coreClock: 1.38GHz coreCount: 80 deviceMemorySize: 15.78GiB deviceMemoryBandwidth: 836.37GiB/s\n",
      "2021-11-30 21:55:48.664680: I tensorflow/core/common_runtime/gpu/gpu_device.cc:1720] Found device 1 with properties: \n",
      "pciBusID: 0000:1d:00.0 name: Tesla V100-PCIE-16GB computeCapability: 7.0\n",
      "coreClock: 1.38GHz coreCount: 80 deviceMemorySize: 15.78GiB deviceMemoryBandwidth: 836.37GiB/s\n",
      "2021-11-30 21:55:48.665420: I tensorflow/core/common_runtime/gpu/gpu_device.cc:1720] Found device 2 with properties: \n",
      "pciBusID: 0000:3d:00.0 name: Tesla V100-PCIE-16GB computeCapability: 7.0\n",
      "coreClock: 1.38GHz coreCount: 80 deviceMemorySize: 15.78GiB deviceMemoryBandwidth: 836.37GiB/s\n",
      "2021-11-30 21:55:48.666147: I tensorflow/core/common_runtime/gpu/gpu_device.cc:1720] Found device 3 with properties: \n",
      "pciBusID: 0000:3f:00.0 name: Tesla V100-PCIE-16GB computeCapability: 7.0\n",
      "coreClock: 1.38GHz coreCount: 80 deviceMemorySize: 15.78GiB deviceMemoryBandwidth: 836.37GiB/s\n",
      "2021-11-30 21:55:48.666188: I tensorflow/stream_executor/platform/default/dso_loader.cc:49] Successfully opened dynamic library libcudart.so.11.0\n",
      "2021-11-30 21:55:48.666218: I tensorflow/stream_executor/platform/default/dso_loader.cc:49] Successfully opened dynamic library libcublas.so.11\n",
      "2021-11-30 21:55:48.666228: I tensorflow/stream_executor/platform/default/dso_loader.cc:49] Successfully opened dynamic library libcublasLt.so.11\n",
      "2021-11-30 21:55:48.666240: I tensorflow/stream_executor/platform/default/dso_loader.cc:49] Successfully opened dynamic library libcufft.so.10\n",
      "2021-11-30 21:55:48.666251: I tensorflow/stream_executor/platform/default/dso_loader.cc:49] Successfully opened dynamic library libcurand.so.10\n",
      "2021-11-30 21:55:48.666261: I tensorflow/stream_executor/platform/default/dso_loader.cc:49] Successfully opened dynamic library libcusolver.so.10\n",
      "2021-11-30 21:55:48.666270: I tensorflow/stream_executor/platform/default/dso_loader.cc:49] Successfully opened dynamic library libcusparse.so.11\n",
      "2021-11-30 21:55:48.666280: I tensorflow/stream_executor/platform/default/dso_loader.cc:49] Successfully opened dynamic library libcudnn.so.8\n",
      "2021-11-30 21:55:48.671833: I tensorflow/core/common_runtime/gpu/gpu_device.cc:1862] Adding visible gpu devices: 0, 1, 2, 3\n",
      "2021-11-30 21:55:48.672730: I tensorflow/compiler/jit/xla_gpu_device.cc:99] Not creating XLA devices, tf_xla_enable_xla_devices not set\n",
      "2021-11-30 21:55:48.673604: I tensorflow/core/common_runtime/gpu/gpu_device.cc:1720] Found device 0 with properties: \n",
      "pciBusID: 0000:1b:00.0 name: Tesla V100-PCIE-16GB computeCapability: 7.0\n",
      "coreClock: 1.38GHz coreCount: 80 deviceMemorySize: 15.78GiB deviceMemoryBandwidth: 836.37GiB/s\n",
      "2021-11-30 21:55:48.674336: I tensorflow/core/common_runtime/gpu/gpu_device.cc:1720] Found device 1 with properties: \n",
      "pciBusID: 0000:1d:00.0 name: Tesla V100-PCIE-16GB computeCapability: 7.0\n",
      "coreClock: 1.38GHz coreCount: 80 deviceMemorySize: 15.78GiB deviceMemoryBandwidth: 836.37GiB/s\n",
      "2021-11-30 21:55:48.675080: I tensorflow/core/common_runtime/gpu/gpu_device.cc:1720] Found device 2 with properties: \n",
      "pciBusID: 0000:3d:00.0 name: Tesla V100-PCIE-16GB computeCapability: 7.0\n",
      "coreClock: 1.38GHz coreCount: 80 deviceMemorySize: 15.78GiB deviceMemoryBandwidth: 836.37GiB/s\n",
      "2021-11-30 21:55:48.675830: I tensorflow/core/common_runtime/gpu/gpu_device.cc:1720] Found device 3 with properties: \n",
      "pciBusID: 0000:3f:00.0 name: Tesla V100-PCIE-16GB computeCapability: 7.0\n",
      "coreClock: 1.38GHz coreCount: 80 deviceMemorySize: 15.78GiB deviceMemoryBandwidth: 836.37GiB/s\n",
      "2021-11-30 21:55:48.675848: I tensorflow/stream_executor/platform/default/dso_loader.cc:49] Successfully opened dynamic library libcudart.so.11.0\n",
      "2021-11-30 21:55:48.675862: I tensorflow/stream_executor/platform/default/dso_loader.cc:49] Successfully opened dynamic library libcublas.so.11\n",
      "2021-11-30 21:55:48.675871: I tensorflow/stream_executor/platform/default/dso_loader.cc:49] Successfully opened dynamic library libcublasLt.so.11\n",
      "2021-11-30 21:55:48.675880: I tensorflow/stream_executor/platform/default/dso_loader.cc:49] Successfully opened dynamic library libcufft.so.10\n",
      "2021-11-30 21:55:48.675890: I tensorflow/stream_executor/platform/default/dso_loader.cc:49] Successfully opened dynamic library libcurand.so.10\n",
      "2021-11-30 21:55:48.675899: I tensorflow/stream_executor/platform/default/dso_loader.cc:49] Successfully opened dynamic library libcusolver.so.10\n",
      "2021-11-30 21:55:48.675907: I tensorflow/stream_executor/platform/default/dso_loader.cc:49] Successfully opened dynamic library libcusparse.so.11\n",
      "2021-11-30 21:55:48.675917: I tensorflow/stream_executor/platform/default/dso_loader.cc:49] Successfully opened dynamic library libcudnn.so.8\n",
      "2021-11-30 21:55:48.681446: I tensorflow/core/common_runtime/gpu/gpu_device.cc:1862] Adding visible gpu devices: 0, 1, 2, 3\n",
      "2021-11-30 21:55:48.681518: I tensorflow/core/common_runtime/gpu/gpu_device.cc:1261] Device interconnect StreamExecutor with strength 1 edge matrix:\n",
      "2021-11-30 21:55:48.681523: I tensorflow/core/common_runtime/gpu/gpu_device.cc:1267]      0 1 2 3 \n",
      "2021-11-30 21:55:48.681528: I tensorflow/core/common_runtime/gpu/gpu_device.cc:1280] 0:   N Y Y Y \n",
      "2021-11-30 21:55:48.681532: I tensorflow/core/common_runtime/gpu/gpu_device.cc:1280] 1:   Y N Y Y \n",
      "2021-11-30 21:55:48.681535: I tensorflow/core/common_runtime/gpu/gpu_device.cc:1280] 2:   Y Y N Y \n",
      "2021-11-30 21:55:48.681538: I tensorflow/core/common_runtime/gpu/gpu_device.cc:1280] 3:   Y Y Y N \n",
      "2021-11-30 21:55:48.685152: I tensorflow/core/common_runtime/gpu/gpu_device.cc:1406] Created TensorFlow device (/job:localhost/replica:0/task:0/device:GPU:0 with 14761 MB memory) -> physical GPU (device: 0, name: Tesla V100-PCIE-16GB, pci bus id: 0000:1b:00.0, compute capability: 7.0)\n",
      "2021-11-30 21:55:48.685890: I tensorflow/core/common_runtime/gpu/gpu_device.cc:1406] Created TensorFlow device (/job:localhost/replica:0/task:0/device:GPU:1 with 14761 MB memory) -> physical GPU (device: 1, name: Tesla V100-PCIE-16GB, pci bus id: 0000:1d:00.0, compute capability: 7.0)\n",
      "2021-11-30 21:55:48.686608: I tensorflow/core/common_runtime/gpu/gpu_device.cc:1406] Created TensorFlow device (/job:localhost/replica:0/task:0/device:GPU:2 with 14761 MB memory) -> physical GPU (device: 2, name: Tesla V100-PCIE-16GB, pci bus id: 0000:3d:00.0, compute capability: 7.0)\n",
      "2021-11-30 21:55:48.687328: I tensorflow/core/common_runtime/gpu/gpu_device.cc:1406] Created TensorFlow device (/job:localhost/replica:0/task:0/device:GPU:3 with 14761 MB memory) -> physical GPU (device: 3, name: Tesla V100-PCIE-16GB, pci bus id: 0000:3f:00.0, compute capability: 7.0)\n"
     ]
    }
   ],
   "source": [
    "tf_kb = NUFFT_op_TF()\n",
    "tf_kb.plan(uv, Nd, Kd, Jd, batch_size=20)"
   ]
  },
  {
   "cell_type": "code",
   "execution_count": 18,
   "id": "6902a06b",
   "metadata": {},
   "outputs": [
    {
     "data": {
      "text/plain": [
       "TensorShape([20, 4440, 512, 512])"
      ]
     },
     "execution_count": 18,
     "metadata": {},
     "output_type": "execute_result"
    }
   ],
   "source": [
    "tf_kb.interp_matrix.shape"
   ]
  },
  {
   "cell_type": "code",
   "execution_count": 19,
   "id": "a23061ad",
   "metadata": {},
   "outputs": [
    {
     "name": "stderr",
     "output_type": "stream",
     "text": [
      "100%|█████████████████████████████████████████████████████████████████████████████████████████████████████████████████████████████████████████████████████████████████████████| 4440/4440 [00:00<00:00, 6003.23it/s]\n"
     ]
    }
   ],
   "source": [
    "tf_kb2 = TF_nufft()\n",
    "tf_kb2.plan(uv, Nd, Kd, Jd)"
   ]
  },
  {
   "cell_type": "code",
   "execution_count": 20,
   "id": "5e918966",
   "metadata": {},
   "outputs": [],
   "source": [
    "y_tf = tf.cast(tf.convert_to_tensor(np.ones((20, 4440)) +0j), tf.complex64)"
   ]
  },
  {
   "cell_type": "code",
   "execution_count": 29,
   "id": "2a43f5a0",
   "metadata": {},
   "outputs": [
    {
     "name": "stdout",
     "output_type": "stream",
     "text": [
      "2.21 s ± 13.7 ms per loop (mean ± std. dev. of 7 runs, 1 loop each)\n"
     ]
    }
   ],
   "source": [
    "%%timeit\n",
    "tf_kb.adj_op(y_tf)"
   ]
  },
  {
   "cell_type": "code",
   "execution_count": 30,
   "id": "7b703d65",
   "metadata": {},
   "outputs": [
    {
     "data": {
      "text/plain": [
       "0.1105"
      ]
     },
     "execution_count": 30,
     "metadata": {},
     "output_type": "execute_result"
    }
   ],
   "source": [
    "2.21/20"
   ]
  },
  {
   "cell_type": "code",
   "execution_count": 21,
   "id": "e650bafa",
   "metadata": {},
   "outputs": [
    {
     "name": "stderr",
     "output_type": "stream",
     "text": [
      "2021-11-30 21:55:51.861509: I tensorflow/stream_executor/platform/default/dso_loader.cc:49] Successfully opened dynamic library libcufft.so.10\n",
      "2021-11-30 21:55:52.463569: I tensorflow/stream_executor/platform/default/dso_loader.cc:49] Successfully opened dynamic library libcublas.so.11\n",
      "2021-11-30 21:55:53.688454: I tensorflow/stream_executor/platform/default/dso_loader.cc:49] Successfully opened dynamic library libcublasLt.so.11\n"
     ]
    }
   ],
   "source": [
    "st = time.perf_counter()\n",
    "x_dirty_tf_kb = tf_kb.adj_op(y_tf)\n",
    "t_kb = time.perf_counter() - st"
   ]
  },
  {
   "cell_type": "code",
   "execution_count": 22,
   "id": "165d0d40",
   "metadata": {},
   "outputs": [],
   "source": [
    "st = time.perf_counter()\n",
    "x_dirty_tf_kb_np = tf_kb2.adjoint(y_tf) \n",
    "t_kb_np = time.perf_counter() - st"
   ]
  },
  {
   "cell_type": "code",
   "execution_count": 23,
   "id": "6906702d",
   "metadata": {},
   "outputs": [],
   "source": [
    "x_dirty_tf_kb = x_dirty_tf_kb.numpy().real[0]\n",
    "x_dirty_tf_kb_np = x_dirty_tf_kb_np.numpy().real[0]"
   ]
  },
  {
   "cell_type": "code",
   "execution_count": 25,
   "id": "342365dc",
   "metadata": {},
   "outputs": [
    {
     "data": {
      "text/plain": [
       "(4.019426227547228, 1.2532449485734105)"
      ]
     },
     "execution_count": 25,
     "metadata": {},
     "output_type": "execute_result"
    }
   ],
   "source": [
    "t_kb, t_kb_np"
   ]
  },
  {
   "cell_type": "code",
   "execution_count": 26,
   "id": "bef73ea5",
   "metadata": {},
   "outputs": [
    {
     "ename": "NameError",
     "evalue": "name 'x_dirty_ndft' is not defined",
     "output_type": "error",
     "traceback": [
      "\u001b[0;31m---------------------------------------------------------------------------\u001b[0m",
      "\u001b[0;31mNameError\u001b[0m                                 Traceback (most recent call last)",
      "\u001b[0;32m/tmp/ipykernel_63866/1228696002.py\u001b[0m in \u001b[0;36m<module>\u001b[0;34m\u001b[0m\n\u001b[1;32m      5\u001b[0m     \u001b[0mnrows\u001b[0m\u001b[0;34m=\u001b[0m\u001b[0;36m2\u001b[0m\u001b[0;34m,\u001b[0m \u001b[0mncols\u001b[0m\u001b[0;34m=\u001b[0m\u001b[0;36m2\u001b[0m\u001b[0;34m,\u001b[0m\u001b[0;34m\u001b[0m\u001b[0;34m\u001b[0m\u001b[0m\n\u001b[1;32m      6\u001b[0m     titles=[\n\u001b[0;32m----> 7\u001b[0;31m         \u001b[0;34m\"PSF NUFFT KB tf function\"\u001b[0m\u001b[0;34m,\u001b[0m \u001b[0;34mf\"Residuals ({t_kb:.1e}s) (rms:  {np.sqrt(np.mean(np.square(x_dirty_ndft - x_dirty_tf_kb))):.3e})\"\u001b[0m\u001b[0;34m,\u001b[0m\u001b[0;34m\u001b[0m\u001b[0;34m\u001b[0m\u001b[0m\n\u001b[0m\u001b[1;32m      8\u001b[0m         \u001b[0;34m\"PSF NUFFT KB np function\"\u001b[0m\u001b[0;34m,\u001b[0m \u001b[0;34mf\"Residuals ({t_kb_np:.1e}s) (rms:  {np.sqrt(np.mean(np.square(x_dirty_ndft - x_dirty_tf_kb_np))):.3e})\"\u001b[0m\u001b[0;34m\u001b[0m\u001b[0;34m\u001b[0m\u001b[0m\n\u001b[1;32m      9\u001b[0m     ], colorbar=True)\n",
      "\u001b[0;31mNameError\u001b[0m: name 'x_dirty_ndft' is not defined"
     ]
    }
   ],
   "source": [
    "compare([\n",
    "    x_dirty_tf_kb, x_dirty_tf_kb - x_dirty_ndft,\n",
    "    x_dirty_tf_kb_np, x_dirty_tf_kb_np - x_dirty_ndft\n",
    "    ], \n",
    "    nrows=2, ncols=2,\n",
    "    titles=[\n",
    "        \"PSF NUFFT KB tf function\", f\"Residuals ({t_kb:.1e}s) (rms:  {np.sqrt(np.mean(np.square(x_dirty_ndft - x_dirty_tf_kb))):.3e})\",\n",
    "        \"PSF NUFFT KB np function\", f\"Residuals ({t_kb_np:.1e}s) (rms:  {np.sqrt(np.mean(np.square(x_dirty_ndft - x_dirty_tf_kb_np))):.3e})\"\n",
    "    ], colorbar=True)"
   ]
  },
  {
   "cell_type": "code",
   "execution_count": null,
   "id": "da5d9769",
   "metadata": {},
   "outputs": [],
   "source": []
  }
 ],
 "metadata": {
  "kernelspec": {
   "display_name": "Python 3 (ipykernel)",
   "language": "python",
   "name": "python3"
  },
  "language_info": {
   "codemirror_mode": {
    "name": "ipython",
    "version": 3
   },
   "file_extension": ".py",
   "mimetype": "text/x-python",
   "name": "python",
   "nbconvert_exporter": "python",
   "pygments_lexer": "ipython3",
   "version": "3.9.7"
  }
 },
 "nbformat": 4,
 "nbformat_minor": 5
}
