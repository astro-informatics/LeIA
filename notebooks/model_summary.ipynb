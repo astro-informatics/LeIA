{
 "cells": [
  {
   "cell_type": "code",
   "execution_count": 1,
   "id": "bc614eab-852f-42cb-8ce3-45c15f0a7a57",
   "metadata": {},
   "outputs": [
    {
     "name": "stdout",
     "output_type": "stream",
     "text": [
      "/home/mars/src_aiai\n"
     ]
    }
   ],
   "source": [
    "cd .."
   ]
  },
  {
   "cell_type": "code",
   "execution_count": 2,
   "id": "d1542007-7da0-4f7d-9a21-83f6dc2e4c22",
   "metadata": {},
   "outputs": [],
   "source": [
    "import numpy as np\n",
    "from src.visualisation import results_and_metrics"
   ]
  },
  {
   "cell_type": "code",
   "execution_count": 3,
   "id": "804d87b4-7466-4575-90a9-bc50c8083d56",
   "metadata": {},
   "outputs": [],
   "source": [
    "from src.visualisation import results_and_metrics\n",
    "name_net_post, results, metrics = results_and_metrics(\"COCO\", 30)\n",
    "name_net_post = [ name_net_post[0], name_net_post[2], name_net_post[4]]"
   ]
  },
  {
   "cell_type": "code",
   "execution_count": 7,
   "id": "6c0775d5-86c2-43cc-94fe-875b48016312",
   "metadata": {},
   "outputs": [],
   "source": [
    "name_net_post = [ name_net_post[0], name_net_post[2], name_net_post[4]]"
   ]
  },
  {
   "cell_type": "code",
   "execution_count": 8,
   "id": "d4f46218-800d-44ff-b6d7-d639aabb27d5",
   "metadata": {},
   "outputs": [
    {
     "name": "stdout",
     "output_type": "stream",
     "text": [
      "|Name                     |Mean time (s)       |Total params        |Trainable params    |Non-trainable params|\n",
      "|Adjoint                  |   0.111 ± 0.027    |                   0|                   0|                   0|\n",
      "|U-net                    |   0.111 ± 0.026    |             2953409|             2948993|                4416|\n",
      "|dU-net                   |   0.632 ± 0.072    |             2955569|             2951153|                4416|\n"
     ]
    }
   ],
   "source": [
    "begin = True\n",
    "for name, net, post in name_net_post:\n",
    "    summary = np.loadtxt(f\"./results/COCO/summary_{net}{post}.csv\", delimiter=',', dtype=str)\n",
    "    \n",
    "    if begin:\n",
    "        begin = False\n",
    "        print(f\"|{'Name':25}|{summary[0,0] +' (s)':20}|{summary[2,0]:20}|{summary[3,0]:20}|{summary[4,0]:20}|\")\n",
    "    values = summary[:,1].astype(float)\n",
    "    print(f\"|{name:25}|{values[0]:8.3f} ± {values[1]:<7.3f}  |{values[2]:20.0f}|{values[3]:20.0f}|{values[4]:20.0f}|\")\n"
   ]
  },
  {
   "cell_type": "code",
   "execution_count": null,
   "id": "bff7aee7-707f-4039-9c42-416a2a3b1721",
   "metadata": {},
   "outputs": [],
   "source": []
  }
 ],
 "metadata": {
  "kernelspec": {
   "display_name": "Python 3 (ipykernel)",
   "language": "python",
   "name": "python3"
  },
  "language_info": {
   "codemirror_mode": {
    "name": "ipython",
    "version": 3
   },
   "file_extension": ".py",
   "mimetype": "text/x-python",
   "name": "python",
   "nbconvert_exporter": "python",
   "pygments_lexer": "ipython3",
   "version": "3.8.11"
  }
 },
 "nbformat": 4,
 "nbformat_minor": 5
}
