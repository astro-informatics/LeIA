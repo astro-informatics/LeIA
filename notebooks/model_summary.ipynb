{
 "cells": [
  {
   "cell_type": "code",
   "execution_count": 1,
   "id": "bc614eab-852f-42cb-8ce3-45c15f0a7a57",
   "metadata": {},
   "outputs": [
    {
     "name": "stdout",
     "output_type": "stream",
     "text": [
      "/home/mars/src_aiai\n"
     ]
    }
   ],
   "source": [
    "cd .."
   ]
  },
  {
   "cell_type": "code",
   "execution_count": 2,
   "id": "d1542007-7da0-4f7d-9a21-83f6dc2e4c22",
   "metadata": {},
   "outputs": [],
   "source": [
    "import numpy as np\n",
    "from src.visualisation import results_and_metrics"
   ]
  },
  {
   "cell_type": "code",
   "execution_count": 3,
   "id": "804d87b4-7466-4575-90a9-bc50c8083d56",
   "metadata": {},
   "outputs": [],
   "source": [
    "from src.visualisation import results_and_metrics\n",
    "name_net_post, results, metrics = results_and_metrics(\"COCO\", 30)\n",
    "name_net_post = [ name_net_post[0], name_net_post[2], name_net_post[4]]"
   ]
  },
  {
   "cell_type": "code",
   "execution_count": 4,
   "id": "6c0775d5-86c2-43cc-94fe-875b48016312",
   "metadata": {},
   "outputs": [
    {
     "ename": "IndexError",
     "evalue": "list index out of range",
     "output_type": "error",
     "traceback": [
      "\u001b[0;31m---------------------------------------------------------------------------\u001b[0m",
      "\u001b[0;31mIndexError\u001b[0m                                Traceback (most recent call last)",
      "\u001b[0;32m/tmp/ipykernel_64351/1724810030.py\u001b[0m in \u001b[0;36m<module>\u001b[0;34m\u001b[0m\n\u001b[0;32m----> 1\u001b[0;31m \u001b[0mname_net_post\u001b[0m \u001b[0;34m=\u001b[0m \u001b[0;34m[\u001b[0m \u001b[0mname_net_post\u001b[0m\u001b[0;34m[\u001b[0m\u001b[0;36m0\u001b[0m\u001b[0;34m]\u001b[0m\u001b[0;34m,\u001b[0m \u001b[0mname_net_post\u001b[0m\u001b[0;34m[\u001b[0m\u001b[0;36m2\u001b[0m\u001b[0;34m]\u001b[0m\u001b[0;34m,\u001b[0m \u001b[0mname_net_post\u001b[0m\u001b[0;34m[\u001b[0m\u001b[0;36m4\u001b[0m\u001b[0;34m]\u001b[0m\u001b[0;34m]\u001b[0m\u001b[0;34m\u001b[0m\u001b[0;34m\u001b[0m\u001b[0m\n\u001b[0m",
      "\u001b[0;31mIndexError\u001b[0m: list index out of range"
     ]
    }
   ],
   "source": [
    "name_net_post = [ name_net_post[0], name_net_post[2], name_net_post[4]]"
   ]
  },
  {
   "cell_type": "code",
   "execution_count": null,
   "id": "d4f46218-800d-44ff-b6d7-d639aabb27d5",
   "metadata": {},
   "outputs": [],
   "source": [
    "begin = True\n",
    "for name, net, post in name_net_post:\n",
    "    summary = np.loadtxt(f\"./results/COCO/summary_{net}{post}.csv\", delimiter=',', dtype=str)\n",
    "    \n",
    "    if begin:\n",
    "        begin = False\n",
    "        print(f\"|{'Name':25}|{summary[0,0] +' (s)':20}|{summary[2,0]:20}|{summary[3,0]:20}|{summary[4,0]:20}|\")\n",
    "    values = summary[:,1].astype(float)\n",
    "    print(f\"|{name:25}|{values[0]:8.3f} ± {values[1]:<7.3f}  |{values[2]:20.0f}|{values[3]:20.0f}|{values[4]:20.0f}|\")\n"
   ]
  },
  {
   "cell_type": "code",
   "execution_count": 6,
   "id": "bff7aee7-707f-4039-9c42-416a2a3b1721",
   "metadata": {},
   "outputs": [],
   "source": [
    "a  = np.load(\"./data/processed/COCO/times_train_30dB.npy\")"
   ]
  },
  {
   "cell_type": "code",
   "execution_count": 11,
   "id": "26d4c997-2759-4007-a272-2fb97994632c",
   "metadata": {},
   "outputs": [],
   "source": [
    "import matplotlib.pyplot as plt"
   ]
  },
  {
   "cell_type": "code",
   "execution_count": 12,
   "id": "5a9b63a0-819d-471f-b240-57a6fda57e51",
   "metadata": {},
   "outputs": [
    {
     "data": {
      "text/plain": [
       "[<matplotlib.lines.Line2D at 0x7f0c08340910>]"
      ]
     },
     "execution_count": 12,
     "metadata": {},
     "output_type": "execute_result"
    },
    {
     "data": {
      "image/png": "[encoded data removed]",
      "text/plain": [
       "<Figure size 432x288 with 1 Axes>"
      ]
     },
     "metadata": {
      "needs_background": "light"
     },
     "output_type": "display_data"
    }
   ],
   "source": [
    "plt.plot(a)"
   ]
  },
  {
   "cell_type": "code",
   "execution_count": 17,
   "id": "a8bc3aa1-87b4-4c2d-b96d-b454860b76e3",
   "metadata": {},
   "outputs": [
    {
     "data": {
      "text/plain": [
       "8.545984292825063"
      ]
     },
     "execution_count": 17,
     "metadata": {},
     "output_type": "execute_result"
    }
   ],
   "source": [
    "np.mean(a[:450])/60/60"
   ]
  },
  {
   "cell_type": "code",
   "execution_count": 14,
   "id": "833a062d-2c1c-4fbc-99d3-bb07f5d1173a",
   "metadata": {},
   "outputs": [
    {
     "data": {
      "text/plain": [
       "29545.458487272263"
      ]
     },
     "execution_count": 14,
     "metadata": {},
     "output_type": "execute_result"
    }
   ],
   "source": [
    "a[450]"
   ]
  },
  {
   "cell_type": "code",
   "execution_count": null,
   "id": "89f08062-7ae6-46ae-842a-a0b44e0b9acd",
   "metadata": {},
   "outputs": [],
   "source": []
  }
 ],
 "metadata": {
  "kernelspec": {
   "display_name": "Python 3 (ipykernel)",
   "language": "python",
   "name": "python3"
  },
  "language_info": {
   "codemirror_mode": {
    "name": "ipython",
    "version": 3
   },
   "file_extension": ".py",
   "mimetype": "text/x-python",
   "name": "python",
   "nbconvert_exporter": "python",
   "pygments_lexer": "ipython3",
   "version": "3.8.11"
  }
 },
 "nbformat": 4,
 "nbformat_minor": 5
}
