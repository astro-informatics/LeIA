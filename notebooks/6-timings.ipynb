{
 "cells": [
  {
   "cell_type": "code",
   "execution_count": 1,
   "id": "fcb0ab1a",
   "metadata": {},
   "outputs": [
    {
     "name": "stdout",
     "output_type": "stream",
     "text": [
      "/home/mars/src_aiai\n"
     ]
    }
   ],
   "source": [
    "cd .."
   ]
  },
  {
   "cell_type": "code",
   "execution_count": 2,
   "id": "53058aee",
   "metadata": {},
   "outputs": [],
   "source": [
    "import time"
   ]
  },
  {
   "cell_type": "code",
   "execution_count": 3,
   "id": "c6cdc042",
   "metadata": {},
   "outputs": [
    {
     "name": "stdout",
     "output_type": "stream",
     "text": [
      "8 actual GPUs, 1 in use.\n"
     ]
    }
   ],
   "source": [
    "from functools import partial\n",
    "from tensorflow.python.framework.ops import disable_eager_execution\n",
    "\n",
    "from src.operators.NUFFT2D import NUFFT2D\n",
    "# disable_eager_execution()\n",
    "\n",
    "import os\n",
    "import sys \n",
    "import pickle\n",
    "\n",
    "import numpy as np\n",
    "import tensorflow as tf\n",
    "from tensorflow.keras import callbacks\n",
    "\n",
    "# operators and sampling patterns\n",
    "from src.operators.NUFFT2D_TF import NUFFT2D_TF\n",
    "from src.operators.NNFFT2D_TF import NNFFT2D_TF\n",
    "from src.operators.IdentityOperator import IdentityOperator\n",
    "\n",
    "from src.sampling.uv_sampling import spider_sampling, random_sampling\n",
    "\n",
    " # some custom callbacks\n",
    "from src.callbacks import PredictionTimeCallback, TimeOutCallback, CSV_logger_plus \n",
    "\n",
    "# model and dataset generator\n",
    "from src.networks.UNet import UNet\n",
    "from src.dataset import Dataset, PregeneratedDataset, data_map, make_yogadl_dataset, measurement_func, random_crop, data_map_image\n",
    "\n",
    "# selecting one gpu to train on\n",
    "from src.util import gpu_setup\n",
    "gpu_setup()\n",
    "\n",
    "\n",
    "#TODO add a nice argument parser\n",
    "\n",
    "epochs = 200\n",
    "set_size = 2000 # size of the train set\n",
    "save_freq = 20 # save every 20 epochs\n",
    "batch_size = 20 \n",
    "max_train_time = 40*60 # time after which training should stop in mins\n",
    "\n",
    "\n",
    "ISNR = 30 #dB\n",
    "network = \"UNet\"\n",
    "activation = \"linear\"\n",
    "load_weights = bool(1) # continuing the last run\n",
    "operator = \"NUFFT_SPIDER\"\n",
    "\n",
    "postfix = \"\"\n",
    "\n",
    "\n",
    "data = \"COCO\"\n",
    "\n",
    "Nd = (256, 256)\n",
    "Kd = (512, 512)\n",
    "Jd = (6,6)\n",
    "\n",
    "input_type=\"measurements\"\n",
    "data_op = None\n",
    "if operator == \"NUFFT_SPIDER\":\n",
    "    uv = spider_sampling()\n",
    "    y_shape = len(uv)\n",
    "    op = NUFFT2D_TF\n",
    "\n",
    "    # sampling density based weighting\n",
    "    grid_cell = 2*np.pi /512 \n",
    "    binned = (uv[:,:]+np.pi+.5*grid_cell) // grid_cell\n",
    "    binned = [tuple(x) for x in binned]\n",
    "    cells = set(binned)\n",
    "    w_gridded = np.zeros(uv.shape[0])\n",
    "    for cell in list(cells):\n",
    "        mask = np.all(np.array(cell) ==  binned, axis=1)\n",
    "        w_gridded[mask] = np.sum(mask)\n",
    "\n",
    "    w = np.linalg.norm(uv, axis=1)\n",
    "    # w = 1/w_gridded\n",
    "    w /= w.max()\n",
    "elif operator == \"NUFFT_Random\":\n",
    "    y_shape = int(Nd[0]**2/2)\n",
    "    uv = random_sampling(y_shape)\n",
    "    op = NUFFT2D_TF\n",
    "    w = np.ones(len(uv)) # no weights necessary for 50% sampling\n",
    "elif operator == \"NNFFT_Random\":\n",
    "    y_shape = int(Nd[0]**2/2)\n",
    "    uv = random_sampling(y_shape)\n",
    "    op = NNFFT2D_TF\n",
    "    w = np.ones(len(uv)) # no weights necessary for 50% sampling\n",
    "elif operator == \"Identity\":\n",
    "    y_shape = Nd\n",
    "    op = IdentityOperator\n",
    "    data_op = IdentityOperator\n",
    "    input_type=\"image\"\n",
    "    w = 1\n",
    "    uv = None\n",
    "    ISNR=24 # more noise for image domain\n",
    "else:\n",
    "    print(\"No such operator\")\n",
    "    exit()"
   ]
  },
  {
   "cell_type": "code",
   "execution_count": 4,
   "id": "dd8568a3",
   "metadata": {},
   "outputs": [],
   "source": [
    "y_dirty_test = np.load(f\"./data/intermediate/COCO/NUFFT_SPIDER/y_dirty_test_{ISNR}dB.npy\").reshape(-1,y_shape)\n"
   ]
  },
  {
   "cell_type": "code",
   "execution_count": 5,
   "id": "927066d3",
   "metadata": {},
   "outputs": [],
   "source": [
    "batch_size = 1"
   ]
  },
  {
   "cell_type": "markdown",
   "id": "65c5555f",
   "metadata": {},
   "source": [
    "# PseudoInverse"
   ]
  },
  {
   "cell_type": "code",
   "execution_count": 24,
   "id": "e65d4ff0",
   "metadata": {},
   "outputs": [],
   "source": [
    "tf.keras.backend.clear_session()"
   ]
  },
  {
   "cell_type": "code",
   "execution_count": 25,
   "id": "bace264d",
   "metadata": {},
   "outputs": [],
   "source": [
    "from src.networks.PseudoInverse import PseudoInverse"
   ]
  },
  {
   "cell_type": "code",
   "execution_count": 26,
   "id": "027bc5ba",
   "metadata": {},
   "outputs": [
    {
     "name": "stderr",
     "output_type": "stream",
     "text": [
      "100%|██████████| 4440/4440 [00:00<00:00, 4716.44it/s]\n"
     ]
    }
   ],
   "source": [
    "pi = PseudoInverse(\n",
    "    Nd, \n",
    "    uv=uv,\n",
    "    op=op, \n",
    "    measurement_weights=w,\n",
    "    batch_size=batch_size,\n",
    "    rescale=False\n",
    "    )"
   ]
  },
  {
   "cell_type": "code",
   "execution_count": 27,
   "id": "c1544c1e",
   "metadata": {},
   "outputs": [
    {
     "name": "stdout",
     "output_type": "stream",
     "text": [
      "completed in 1.91s (1.9 ms per sample)\n"
     ]
    }
   ],
   "source": [
    "st = time.time()\n",
    "pi.predict(y_dirty_test, batch_size=batch_size)\n",
    "print(f\"completed in {time.time()-st:.2f}s ({(time.time()-st)/len(y_dirty_test)*1e3:.1f} ms per sample)\")"
   ]
  },
  {
   "cell_type": "code",
   "execution_count": 28,
   "id": "6b478eab",
   "metadata": {},
   "outputs": [],
   "source": [
    "del pi"
   ]
  },
  {
   "cell_type": "markdown",
   "id": "0d3d7aa4",
   "metadata": {},
   "source": [
    "# UNet"
   ]
  },
  {
   "cell_type": "code",
   "execution_count": 11,
   "id": "2fe64e64",
   "metadata": {},
   "outputs": [],
   "source": [
    "tf.keras.backend.clear_session()"
   ]
  },
  {
   "cell_type": "code",
   "execution_count": 12,
   "id": "35011622",
   "metadata": {},
   "outputs": [
    {
     "name": "stderr",
     "output_type": "stream",
     "text": [
      "100%|██████████| 4440/4440 [00:00<00:00, 5259.94it/s]\n"
     ]
    },
    {
     "name": "stdout",
     "output_type": "stream",
     "text": [
      "KerasTensor(type_spec=TensorSpec(shape=(None, 4440), dtype=tf.complex64, name='input_1'), name='input_1', description=\"created by layer 'input_1'\") KerasTensor(type_spec=TensorSpec(shape=(1, 256, 256), dtype=tf.float32, name=None), name='tf.__operators__.add/AddV2:0', description=\"created by layer 'tf.__operators__.add'\")\n"
     ]
    }
   ],
   "source": [
    "unet = UNet(\n",
    "    Nd, \n",
    "    uv=uv,\n",
    "    op=op, \n",
    "    depth=4, \n",
    "    conv_layers=2,\n",
    "    input_type=input_type, \n",
    "    measurement_weights=w,\n",
    "    batch_size=batch_size,\n",
    "    residual=True\n",
    "    )"
   ]
  },
  {
   "cell_type": "code",
   "execution_count": 13,
   "id": "0e9f2747",
   "metadata": {},
   "outputs": [
    {
     "data": {
      "text/plain": [
       "<tensorflow.python.training.tracking.util.CheckpointLoadStatus at 0x7fcca026e4d0>"
      ]
     },
     "execution_count": 13,
     "metadata": {},
     "output_type": "execute_result"
    }
   ],
   "source": [
    "checkpoint_folder = f\"./models/{data}/{operator}/{network}_{ISNR}dB{postfix}\"\n",
    "\n",
    "latest = tf.train.latest_checkpoint(checkpoint_folder)\n",
    "unet.load_weights(latest)"
   ]
  },
  {
   "cell_type": "code",
   "execution_count": 14,
   "id": "84027e8d",
   "metadata": {},
   "outputs": [
    {
     "name": "stdout",
     "output_type": "stream",
     "text": [
      "completed in 10.911998510360718s (10.912010669708252 ms per sample)\n"
     ]
    }
   ],
   "source": [
    "st = time.time()\n",
    "unet.predict(y_dirty_test, batch_size=batch_size)\n",
    "print(f\"completed in {time.time()-st}s ({(time.time()-st)/len(y_dirty_test)*1e3} ms per sample)\")"
   ]
  },
  {
   "cell_type": "code",
   "execution_count": 15,
   "id": "bd37ebf8",
   "metadata": {},
   "outputs": [],
   "source": [
    "del unet"
   ]
  },
  {
   "cell_type": "markdown",
   "id": "6b88dc91",
   "metadata": {},
   "source": [
    "# GUNet"
   ]
  },
  {
   "cell_type": "code",
   "execution_count": 16,
   "id": "53bb511e",
   "metadata": {},
   "outputs": [],
   "source": [
    "tf.keras.backend.clear_session()"
   ]
  },
  {
   "cell_type": "code",
   "execution_count": 17,
   "id": "33a6e996",
   "metadata": {},
   "outputs": [],
   "source": [
    "from src.networks.GUnet import GUnet\n"
   ]
  },
  {
   "cell_type": "code",
   "execution_count": 20,
   "id": "08a92fb5",
   "metadata": {},
   "outputs": [],
   "source": [
    "tf.compat.v1.disable_eager_execution() # GUNet cannot use eager execution\n"
   ]
  },
  {
   "cell_type": "code",
   "execution_count": 21,
   "id": "ead55a46",
   "metadata": {},
   "outputs": [
    {
     "name": "stderr",
     "output_type": "stream",
     "text": [
      "100%|██████████| 4440/4440 [00:00<00:00, 4860.05it/s]\n",
      "100%|██████████| 4439/4439 [00:00<00:00, 6268.14it/s]\n"
     ]
    },
    {
     "name": "stdout",
     "output_type": "stream",
     "text": [
      "some values lie out of the interpolation array, these are not used, check baselines\n"
     ]
    },
    {
     "name": "stderr",
     "output_type": "stream",
     "text": [
      "100%|██████████| 3858/3858 [00:00<00:00, 6308.66it/s]\n"
     ]
    },
    {
     "name": "stdout",
     "output_type": "stream",
     "text": [
      "some values lie out of the interpolation array, these are not used, check baselines\n"
     ]
    },
    {
     "name": "stderr",
     "output_type": "stream",
     "text": [
      "100%|██████████| 2830/2830 [00:00<00:00, 6196.14it/s]\n"
     ]
    },
    {
     "name": "stdout",
     "output_type": "stream",
     "text": [
      "some values lie out of the interpolation array, these are not used, check baselines\n"
     ]
    },
    {
     "name": "stderr",
     "output_type": "stream",
     "text": [
      "100%|██████████| 2140/2140 [00:00<00:00, 6269.60it/s]\n"
     ]
    },
    {
     "name": "stdout",
     "output_type": "stream",
     "text": [
      "some values lie out of the interpolation array, these are not used, check baselines\n",
      "WARNING:tensorflow:From /home/mars/.conda/envs/InterferAI/lib/python3.7/site-packages/keras/layers/normalization/batch_normalization.py:532: _colocate_with (from tensorflow.python.framework.ops) is deprecated and will be removed in a future version.\n",
      "Instructions for updating:\n",
      "Colocations handled automatically by placer.\n",
      "Tensor(\"input_1:0\", shape=(None, 4440), dtype=complex64) Tensor(\"add:0\", shape=(1, 256, 256), dtype=float32)\n"
     ]
    }
   ],
   "source": [
    "gunet = GUnet(\n",
    "    Nd, \n",
    "    uv=uv,\n",
    "    op=op, \n",
    "    depth=4, \n",
    "    conv_layers=2,\n",
    "    input_type=input_type, \n",
    "    measurement_weights=w,\n",
    "    batch_size=batch_size,\n",
    "    residual=True\n",
    "    )"
   ]
  },
  {
   "cell_type": "code",
   "execution_count": 22,
   "id": "c48f5fd6",
   "metadata": {},
   "outputs": [
    {
     "data": {
      "text/plain": [
       "<tensorflow.python.training.tracking.util.CheckpointLoadStatus at 0x7fcc985af210>"
      ]
     },
     "execution_count": 22,
     "metadata": {},
     "output_type": "execute_result"
    }
   ],
   "source": [
    "network = \"GUnet\"\n",
    "\n",
    "checkpoint_folder = f\"./models/{data}/{operator}/{network}_{ISNR}dB{postfix}\"\n",
    "latest = tf.train.latest_checkpoint(checkpoint_folder)\n",
    "gunet.load_weights(latest)"
   ]
  },
  {
   "cell_type": "code",
   "execution_count": 23,
   "id": "e5a898d5",
   "metadata": {},
   "outputs": [
    {
     "name": "stderr",
     "output_type": "stream",
     "text": [
      "/home/mars/.conda/envs/InterferAI/lib/python3.7/site-packages/keras/engine/training_v1.py:2079: UserWarning: `Model.state_updates` will be removed in a future version. This property should not be used in TensorFlow 2.0, as `updates` are applied automatically.\n",
      "  updates=self.state_updates,\n"
     ]
    },
    {
     "name": "stdout",
     "output_type": "stream",
     "text": [
      "completed in 69.49060988426208s (69.49062037467957 ms per sample)\n"
     ]
    }
   ],
   "source": [
    "st = time.time()\n",
    "gunet.predict(y_dirty_test, batch_size=batch_size)\n",
    "print(f\"completed in {time.time()-st}s ({(time.time()-st)/len(y_dirty_test)*1e3} ms per sample)\")"
   ]
  },
  {
   "cell_type": "code",
   "execution_count": null,
   "id": "2e4ade14",
   "metadata": {},
   "outputs": [],
   "source": [
    "del gunet"
   ]
  },
  {
   "cell_type": "code",
   "execution_count": null,
   "id": "1f015e27",
   "metadata": {},
   "outputs": [],
   "source": []
  }
 ],
 "metadata": {
  "kernelspec": {
   "display_name": "Python 3",
   "language": "python",
   "name": "python3"
  },
  "language_info": {
   "codemirror_mode": {
    "name": "ipython",
    "version": 3
   },
   "file_extension": ".py",
   "mimetype": "text/x-python",
   "name": "python",
   "nbconvert_exporter": "python",
   "pygments_lexer": "ipython3",
   "version": "3.7.11"
  }
 },
 "nbformat": 4,
 "nbformat_minor": 5
}
