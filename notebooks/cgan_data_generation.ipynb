{
 "cells": [
  {
   "cell_type": "code",
   "execution_count": 1,
   "id": "afd196b7",
   "metadata": {},
   "outputs": [
    {
     "name": "stdout",
     "output_type": "stream",
     "text": [
      "/home/mars/src_aiai\n"
     ]
    }
   ],
   "source": [
    "cd .."
   ]
  },
  {
   "cell_type": "code",
   "execution_count": 2,
   "id": "44e2aae1",
   "metadata": {},
   "outputs": [
    {
     "name": "stdout",
     "output_type": "stream",
     "text": [
      "4 actual GPUs, 1 in use.\n"
     ]
    }
   ],
   "source": [
    "from src.util import gpu_setup\n",
    "gpu_setup()"
   ]
  },
  {
   "cell_type": "code",
   "execution_count": 3,
   "id": "c3abe3c3",
   "metadata": {},
   "outputs": [],
   "source": [
    "import numpy as  np\n",
    "import matplotlib.pyplot as plt\n",
    "from src.operators.NUFFT2D_TF import NUFFT2D_TF\n",
    "from copy import deepcopy\n",
    "import glob \n",
    "import tqdm\n",
    "import os\n"
   ]
  },
  {
   "cell_type": "markdown",
   "id": "935df4ab",
   "metadata": {},
   "source": [
    "# Create operators"
   ]
  },
  {
   "cell_type": "code",
   "execution_count": 10,
   "id": "f6956067",
   "metadata": {},
   "outputs": [
    {
     "name": "stderr",
     "output_type": "stream",
     "text": [
      "100%|██████████| 65536/65536 [00:10<00:00, 6059.01it/s]\n"
     ]
    },
    {
     "name": "stdout",
     "output_type": "stream",
     "text": [
      "some values lie out of the interpolation array, these are not used, check baselines\n"
     ]
    }
   ],
   "source": [
    "Nd =(360,360)\n",
    "\n",
    "# Kd = (720, 720)\n",
    "Kd = (360, 360) # TODO look at upsampling\n",
    "\n",
    "Jd = (6,6)\n",
    "batch_size = 1\n",
    "\n",
    "uv = np.load(\"./data/intermediate/TNG/NUFFT_Random_var/uv_big.npy\")\n",
    "uv_original = np.load(\"./data/intermediate/TNG/NUFFT_Random_var/uv_original.npy\")\n",
    "sel_original =  np.load(\"./data/intermediate/TNG/NUFFT_Random_var/sel.npy\")\n",
    "\n",
    "m_op = NUFFT2D_TF()\n",
    "m_op.plan(uv, Nd, Kd, Jd, batch_size)"
   ]
  },
  {
   "cell_type": "markdown",
   "id": "b77a482a",
   "metadata": {},
   "source": [
    "# Create measurements without noise"
   ]
  },
  {
   "cell_type": "code",
   "execution_count": 4,
   "id": "e88c1f83",
   "metadata": {},
   "outputs": [],
   "source": [
    "data_folder = \"/share/gpu0/mars/TNG_data/processed_360\"\n",
    "im_paths = glob.glob(data_folder + \"/*.npy\")\n",
    "ISNR = 30 #dB"
   ]
  },
  {
   "cell_type": "code",
   "execution_count": 9,
   "id": "88388c6a",
   "metadata": {},
   "outputs": [
    {
     "name": "stderr",
     "output_type": "stream",
     "text": [
      "100%|██████████| 13400/13400 [56:35<00:00,  3.95it/s]\n"
     ]
    }
   ],
   "source": [
    "x_true = []\n",
    "y_clean = []\n",
    "y_dirty = []\n",
    "\n",
    "x_dirty_fixed = []\n",
    "psf_fixed = []\n",
    "\n",
    "x_dirty_varying = []\n",
    "psf_varying = []\n",
    "\n",
    "for idx, im_path in enumerate(tqdm.tqdm(im_paths[:len(im_paths)])):\n",
    "    im = np.load(im_path)\n",
    "    x_true.append(im)\n",
    "    y_ = m_op.dir_op(im)\n",
    "    \n",
    "    \n",
    "    data_shape = y_.shape\n",
    "    sigma = np.sqrt(np.mean(np.abs(y_)**2)) * 10**(-ISNR/20)\n",
    "    n = np.random.normal( 0, sigma, data_shape) + 1j * np.random.normal( 0, sigma, data_shape)\n",
    "    y = y_ + n/np.sqrt(2) # correct for the complex amplitude of noise\n",
    "    y = y.numpy().reshape(1,-1)\n",
    "    y_clean.append(y_.numpy())\n",
    "    y_dirty.append(y)\n",
    "    \n",
    "    x_dirty_fixed.append( m_op.adj_op_sub(y[:,sel_original], sel_original).numpy()) \n",
    "    if idx == 0:\n",
    "        psf_fixed.append( m_op.adj_op_sub( np.ones_like(y[:,sel_original]), sel_original).numpy())\n",
    "    else:\n",
    "        psf_fixed.append( psf_fixed[0])\n",
    "    \n",
    "    sel = np.random.permutation(len(uv)) < len(uv)//2\n",
    "    x_dirty_varying.append( m_op.adj_op_sub(y[:,sel], sel).numpy() )\n",
    "    psf_varying.append(  m_op.adj_op_sub( np.ones_like(y[:,sel]), sel).numpy())\n",
    "\n",
    "\n",
    "\n",
    "save_dir = \"/share/gpu0/mars/TNG_data/preprocessed_360/\"\n",
    "os.makedirs(save_dir, exist_ok=True)\n",
    "np.save(save_dir + \"./x_true.npy\", np.squeeze(np.array(x_true)))\n",
    "np.save(save_dir + \"./y_dirty.npy\", np.squeeze(np.array(y_dirty)))\n",
    "np.save(save_dir + \"./y_clean.npy\", np.squeeze(np.array(y_clean)))\n",
    "np.save(save_dir + \"./x_dirty_fixed.npy\", np.squeeze(np.array(x_dirty_fixed).real))\n",
    "np.save(save_dir + \"./psf_fixed.npy\", np.squeeze(np.array(psf_fixed)))\n",
    "np.save(save_dir + \"./x_dirty_varying.npy\", np.squeeze(np.array(x_dirty_varying).real))\n",
    "np.save(save_dir + \"./psf_varying.npy\", np.squeeze(np.array(psf_varying)))"
   ]
  },
  {
   "cell_type": "markdown",
   "id": "3b928252",
   "metadata": {},
   "source": [
    "# create train, test, val"
   ]
  },
  {
   "cell_type": "code",
   "execution_count": 10,
   "id": "ac87d6f1",
   "metadata": {},
   "outputs": [],
   "source": [
    "x = np.squeeze(np.array(x_true))\n",
    "y = np.squeeze(np.array(x_dirty_fixed))\n",
    "uv = np.squeeze(np.array(psf_fixed))"
   ]
  },
  {
   "cell_type": "code",
   "execution_count": 16,
   "id": "e422d0a4",
   "metadata": {},
   "outputs": [],
   "source": [
    "p = np.random.permutation(len(x))\n",
    "\n",
    "sel_train = p<10000\n",
    "sel_val = (p>=10000) & (p<11500)\n",
    "sel_test = p>=11500\n",
    "\n",
    "x_train, y_train, uv_train = x[sel_train], y[sel_train], uv[sel_train]\n",
    "x_val, y_val, uv_val = x[sel_val], y[sel_val], uv[sel_val]\n",
    "x_test, y_test, uv_test = x[sel_test], y[sel_test], uv[sel_test]\n",
    "\n",
    "data_dir = \"/share/gpu0/mars/TNG_data/rcGAN/image_fixed\"\n",
    "np.save(data_dir + \"/train/x.npy\", x_train)\n",
    "np.save(data_dir + \"/train/y.npy\", y_train)\n",
    "np.save(data_dir + \"/train/uv.npy\", uv_train)\n",
    "\n",
    "np.save(data_dir + \"/val/x.npy\", x_val)\n",
    "np.save(data_dir + \"/val/y.npy\", y_val)\n",
    "np.save(data_dir + \"/val/uv.npy\", uv_val)\n",
    "\n",
    "np.save(data_dir + \"/test/x.npy\", x_test)\n",
    "np.save(data_dir + \"/test/y.npy\", y_test)\n",
    "np.save(data_dir + \"/test/uv.npy\", uv_test)"
   ]
  },
  {
   "cell_type": "code",
   "execution_count": 17,
   "id": "9f8c9497",
   "metadata": {},
   "outputs": [],
   "source": [
    "x = np.squeeze(np.array(x_true))\n",
    "y = np.squeeze(np.array(x_dirty_varying))\n",
    "uv = np.squeeze(np.array(psf_varying))"
   ]
  },
  {
   "cell_type": "code",
   "execution_count": 18,
   "id": "acd72028",
   "metadata": {},
   "outputs": [],
   "source": [
    "x_train, y_train, uv_train = x[sel_train], y[sel_train], uv[sel_train]\n",
    "x_val, y_val, uv_val = x[sel_val], y[sel_val], uv[sel_val]\n",
    "# Test set same as with fixed sampling\n",
    "# x_test, y_test, uv_test = x[sel_test], y[sel_test], uv[sel_test]\n",
    "\n",
    "data_dir = \"/share/gpu0/mars/TNG_data/rcGAN/image_varying\"\n",
    "np.save(data_dir + \"/train/x.npy\", x_train)\n",
    "np.save(data_dir + \"/train/y.npy\", y_train)\n",
    "np.save(data_dir + \"/train/uv.npy\", uv_train)\n",
    "\n",
    "np.save(data_dir + \"/val/x.npy\", x_val)\n",
    "np.save(data_dir + \"/val/y.npy\", y_val)\n",
    "np.save(data_dir + \"/val/uv.npy\", uv_val)\n",
    "\n",
    "np.save(data_dir + \"/test/x.npy\", x_test)\n",
    "np.save(data_dir + \"/test/y.npy\", y_test)\n",
    "np.save(data_dir + \"/test/uv.npy\", uv_test)"
   ]
  },
  {
   "cell_type": "code",
   "execution_count": 19,
   "id": "85f08740",
   "metadata": {},
   "outputs": [
    {
     "data": {
      "text/plain": [
       "(10000, 360, 360)"
      ]
     },
     "execution_count": 19,
     "metadata": {},
     "output_type": "execute_result"
    }
   ],
   "source": [
    "x_train.shape"
   ]
  },
  {
   "cell_type": "markdown",
   "id": "c56fc667",
   "metadata": {},
   "source": [
    "# with PSFs"
   ]
  },
  {
   "cell_type": "code",
   "execution_count": 7,
   "id": "0816fe35",
   "metadata": {},
   "outputs": [],
   "source": [
    "psfs = np.load(\"./notebooks/psf_256.npy\")"
   ]
  },
  {
   "cell_type": "code",
   "execution_count": 8,
   "id": "912c8974",
   "metadata": {},
   "outputs": [
    {
     "data": {
      "text/plain": [
       "(1024, 256, 256)"
      ]
     },
     "execution_count": 8,
     "metadata": {},
     "output_type": "execute_result"
    }
   ],
   "source": [
    "psfs.shape"
   ]
  },
  {
   "cell_type": "code",
   "execution_count": 25,
   "id": "594c953f",
   "metadata": {},
   "outputs": [],
   "source": [
    "dirtying = lambda im, ft_psf: np.real(m_op._kk2xx(m_op._xx2kk(im) * ft_psf))"
   ]
  },
  {
   "cell_type": "code",
   "execution_count": 32,
   "id": "1f8dbf19",
   "metadata": {},
   "outputs": [
    {
     "name": "stderr",
     "output_type": "stream",
     "text": [
      "100%|██████████| 13400/13400 [08:53<00:00, 25.11it/s]\n"
     ]
    }
   ],
   "source": [
    "x_true = []\n",
    "x_dirty = []\n",
    "psf_list = []\n",
    "\n",
    "\n",
    "for idx, im_path in enumerate(tqdm.tqdm(im_paths[:len(im_paths)])):\n",
    "    if idx % len(im_paths)//len(psfs) == 0:\n",
    "        psf = psfs[idx // (len(im_paths)//len(psfs))]\n",
    "        ft_psf = m_op._xx2kk(psf.astype(complex))\n",
    "        \n",
    "    im = np.load(im_path)[50:306, 50:306].astype(complex)\n",
    "\n",
    "    x_true.append(im)\n",
    "    dirty = dirtying(im, ft_psf)\n",
    "    x_dirty.append(dirty)\n",
    "    psf_list.append(psf)"
   ]
  },
  {
   "cell_type": "code",
   "execution_count": 39,
   "id": "ff35c214",
   "metadata": {},
   "outputs": [],
   "source": [
    "\n",
    "x = np.array(x_true)\n",
    "y = np.array(x_dirty)\n",
    "uv = np.array(psf_list)"
   ]
  },
  {
   "cell_type": "code",
   "execution_count": 41,
   "id": "002df467",
   "metadata": {},
   "outputs": [],
   "source": [
    "p = np.random.permutation(len(x_true))\n",
    "p = np.arange(len(x_true)) # make sure there is no overlap between psfs in train and in test\n",
    "\n",
    "sel_train = p<10000\n",
    "sel_val = (p>=10000) & (p<11500)\n",
    "sel_test = p>=11500\n",
    "\n",
    "x_train, y_train, uv_train = x[sel_train], y[sel_train], uv[sel_train]\n",
    "x_val, y_val, uv_val = x[sel_val], y[sel_val], uv[sel_val]\n",
    "x_test, y_test, uv_test = x[sel_test], y[sel_test], uv[sel_test]\n",
    "\n",
    "data_dir = \"/share/gpu0/mars/TNG_data/rcGAN/image_psfs\"\n",
    "os.makedirs(data_dir, exist_ok=True)\n",
    "os.makedirs(data_dir + \"/train/\", exist_ok=True)\n",
    "os.makedirs(data_dir + \"/val/\", exist_ok=True)\n",
    "os.makedirs(data_dir + \"/test/\", exist_ok=True)\n",
    "\n",
    "np.save(data_dir + \"/train/x.npy\", x_train)\n",
    "np.save(data_dir + \"/train/y.npy\", y_train)\n",
    "np.save(data_dir + \"/train/uv.npy\", uv_train)\n",
    "\n",
    "np.save(data_dir + \"/val/x.npy\", x_val)\n",
    "np.save(data_dir + \"/val/y.npy\", y_val)\n",
    "np.save(data_dir + \"/val/uv.npy\", uv_val)\n",
    "\n",
    "np.save(data_dir + \"/test/x.npy\", x_test)\n",
    "np.save(data_dir + \"/test/y.npy\", y_test)\n",
    "np.save(data_dir + \"/test/uv.npy\", uv_test)"
   ]
  },
  {
   "cell_type": "code",
   "execution_count": null,
   "id": "60ce807f",
   "metadata": {},
   "outputs": [],
   "source": []
  }
 ],
 "metadata": {
  "kernelspec": {
   "display_name": "Python 3",
   "language": "python",
   "name": "python3"
  },
  "language_info": {
   "codemirror_mode": {
    "name": "ipython",
    "version": 3
   },
   "file_extension": ".py",
   "mimetype": "text/x-python",
   "name": "python",
   "nbconvert_exporter": "python",
   "pygments_lexer": "ipython3",
   "version": "3.7.11"
  }
 },
 "nbformat": 4,
 "nbformat_minor": 5
}
