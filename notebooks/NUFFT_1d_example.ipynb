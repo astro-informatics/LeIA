{
 "cells": [
  {
   "cell_type": "code",
   "execution_count": 4,
   "id": "b74dcefe-7c3d-4cab-80e9-822cc990790d",
   "metadata": {},
   "outputs": [
    {
     "name": "stdout",
     "output_type": "stream",
     "text": [
      "/home/mars/src_aiai\n"
     ]
    }
   ],
   "source": [
    "cd .."
   ]
  },
  {
   "cell_type": "code",
   "execution_count": 5,
   "id": "5a81ae3c-171b-491c-a33c-ab390182cc6a",
   "metadata": {},
   "outputs": [],
   "source": [
    "import numpy as np\n",
    "import matplotlib.pyplot as plt"
   ]
  },
  {
   "cell_type": "code",
   "execution_count": 6,
   "id": "85e835f4-9e65-4e9c-835e-3f4e99dd2175",
   "metadata": {},
   "outputs": [
    {
     "name": "stderr",
     "output_type": "stream",
     "text": [
      "2021-11-01 16:01:30.736753: I tensorflow/stream_executor/platform/default/dso_loader.cc:49] Successfully opened dynamic library libcudart.so.11.0\n"
     ]
    }
   ],
   "source": [
    "from src.operators.measurement import NUFFT_op_1D"
   ]
  },
  {
   "cell_type": "code",
   "execution_count": 7,
   "id": "75499fd3-ce74-4155-8b69-13559c98392e",
   "metadata": {},
   "outputs": [],
   "source": [
    "non_uniform_k = np.random.rand(100) - .5 #np.array([1,3,5,7,9], dtype=float)\n",
    "non_uniform_k /= np.abs(non_uniform_k).max() * np.pi # scaling between -pi,pi"
   ]
  },
  {
   "cell_type": "code",
   "execution_count": 8,
   "id": "c5fa6c15-0ba3-4764-be8e-37b1bbdf726b",
   "metadata": {},
   "outputs": [],
   "source": [
    "Nd = (128,) # dimensions of real domain\n",
    "Kd = (256,) # dimensions of (optionally) upsampled Fourier domain\n",
    "Jd = (6,) # kernel width for interpolation/convolution"
   ]
  },
  {
   "cell_type": "code",
   "execution_count": 9,
   "id": "75587458-0c2c-46e1-acd7-57e274700ee9",
   "metadata": {},
   "outputs": [
    {
     "name": "stderr",
     "output_type": "stream",
     "text": [
      "100%|██████████████████████████████████████████████████████████████████████████████████████████████████████████████████████████████████████████████████████████████████████████| 100/100 [00:00<00:00, 12348.90it/s]\n"
     ]
    }
   ],
   "source": [
    "op = NUFFT_op_1D()\n",
    "op.plan(non_uniform_k, Nd, Kd, Jd) # calculating the interpolation matrix"
   ]
  },
  {
   "cell_type": "code",
   "execution_count": 10,
   "id": "18af11b2-81e0-4b12-9c9c-55e4cd958310",
   "metadata": {},
   "outputs": [],
   "source": [
    "x = np.ones(Nd)\n",
    "y = op.dir_op(x)\n"
   ]
  },
  {
   "cell_type": "code",
   "execution_count": 11,
   "id": "9d309802-0e5a-426b-80c1-b66753561343",
   "metadata": {},
   "outputs": [
    {
     "name": "stdout",
     "output_type": "stream",
     "text": [
      "(128,) (100,)\n"
     ]
    }
   ],
   "source": [
    "print(x.shape, y.shape)"
   ]
  },
  {
   "cell_type": "code",
   "execution_count": 12,
   "id": "8b7ba335-f553-4433-9143-b15b9dcb411f",
   "metadata": {},
   "outputs": [],
   "source": [
    "x_dirty = op.adj_op(y)"
   ]
  },
  {
   "cell_type": "code",
   "execution_count": 13,
   "id": "76c84741-70bf-429d-ba43-e11848e558d3",
   "metadata": {},
   "outputs": [
    {
     "name": "stdout",
     "output_type": "stream",
     "text": [
      "(128,)\n"
     ]
    }
   ],
   "source": [
    "print(x_dirty.shape)"
   ]
  },
  {
   "cell_type": "code",
   "execution_count": 26,
   "id": "e7c3a563-b8ba-4192-89e8-47611d4017d2",
   "metadata": {},
   "outputs": [],
   "source": [
    "def ift(x, w, m):\n",
    "    \"direct calculation of the ift for non uniform frequencies\"\n",
    "    return np.array([np.sum(m * np.exp(1j*w*i)) for i in x ]) / (2*len(x))"
   ]
  },
  {
   "cell_type": "code",
   "execution_count": 32,
   "id": "bcb2e1c9-c068-4498-93c9-c41e06db58cf",
   "metadata": {},
   "outputs": [
    {
     "data": {
      "text/plain": [
       "<matplotlib.legend.Legend at 0x7faf786a3070>"
      ]
     },
     "execution_count": 32,
     "metadata": {},
     "output_type": "execute_result"
    },
    {
     "data": {
      "image/png": "[encoded data removed]",
      "text/plain": [
       "<Figure size 432x288 with 1 Axes>"
      ]
     },
     "metadata": {
      "needs_background": "light"
     },
     "output_type": "display_data"
    }
   ],
   "source": [
    "plt.plot(x, label='Original signal')\n",
    "plt.plot(x_dirty.real, label='nufft 1d')\n",
    "plt.plot(ift((np.arange(128)-64), non_uniform_k, y).real, label='ift', linestyle='-.')\n",
    "plt.title(\"comparison between direct ift calcualtion and inverse nufft\")\n",
    "plt.legend()"
   ]
  },
  {
   "cell_type": "code",
   "execution_count": null,
   "id": "f1f03a7c-e16e-417c-9085-46fcf2e09c05",
   "metadata": {},
   "outputs": [],
   "source": []
  }
 ],
 "metadata": {
  "kernelspec": {
   "display_name": "Python 3 (ipykernel)",
   "language": "python",
   "name": "python3"
  },
  "language_info": {
   "codemirror_mode": {
    "name": "ipython",
    "version": 3
   },
   "file_extension": ".py",
   "mimetype": "text/x-python",
   "name": "python",
   "nbconvert_exporter": "python",
   "pygments_lexer": "ipython3",
   "version": "3.8.11"
  }
 },
 "nbformat": 4,
 "nbformat_minor": 5
}
